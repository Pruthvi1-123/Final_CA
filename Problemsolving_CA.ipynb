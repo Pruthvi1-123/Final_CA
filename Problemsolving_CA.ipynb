{
 "cells": [
  {
   "cell_type": "code",
   "execution_count": null,
   "id": "7efd8a1f",
   "metadata": {},
   "outputs": [],
   "source": [
    "\n",
    "\n",
    "import pandas as pd\n",
    "import numpy as np\n",
    "import matplotlib.pyplot as plt\n",
    "import seaborn as sns\n",
    "import warnings\n",
    "warnings.filterwarnings('ignore')\n",
    "\n",
    "# Basic machine learning imports\n",
    "from sklearn.model_selection import train_test_split\n",
    "from sklearn.linear_model import LogisticRegression\n",
    "from sklearn.multioutput import MultiOutputClassifier\n",
    "from sklearn.preprocessing import LabelEncoder\n",
    "from sklearn.metrics import classification_report, confusion_matrix, accuracy_score\n",
    "from sklearn.feature_extraction.text import TfidfVectorizer\n",
    "\n",
    "# For handling imbalanced data\n",
    "from imblearn.over_sampling import SMOTE\n",
    "\n",
    "# For text processing\n",
    "import re\n",
    "import time\n"
   ]
  },
  {
   "cell_type": "code",
   "execution_count": null,
   "id": "8faec655",
   "metadata": {},
   "outputs": [],
   "source": [
    "def load_and_explore_data(filepath=\"customer_support_tickets.csv\"):\n",
    "    \"\"\"\n",
    "    Load the support ticket data and perform initial exploration\n",
    "    This helps us understand what we're working with\n",
    "    \"\"\"\n",
    "    print(\"\\nSTEP 1: Loading and exploring the data\")\n",
    "    print(\"-\" * 50)\n",
    "\n",
    "    try:\n",
    "        # Load the CSV file\n",
    "        df = pd.read_csv(filepath, encoding='utf-8')\n",
    "        print(f\"Successfully loaded dataset with {len(df):,} tickets\")\n",
    "        \n",
    "        # Show basic information about the dataset\n",
    "        print(f\"Dataset shape: {df.shape[0]} rows x {df.shape[1]} columns\")\n",
    "        print(f\"Memory usage: {df.memory_usage(deep=True).sum() / 1024**2:.1f} MB\")"
   ]
  },
  {
   "cell_type": "code",
   "execution_count": null,
   "id": "d5a6163c",
   "metadata": {},
   "outputs": [],
   "source": []
  }
 ],
 "metadata": {
  "language_info": {
   "name": "python"
  }
 },
 "nbformat": 4,
 "nbformat_minor": 5
}
