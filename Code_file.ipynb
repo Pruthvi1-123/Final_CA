{
 "cells": [
  {
   "cell_type": "code",
   "execution_count": null,
   "id": "8425fcc4",
   "metadata": {},
   "outputs": [],
   "source": [
    "# Import libraries\n",
    "import pandas as pd\n"
   ]
  },
  {
   "cell_type": "code",
   "execution_count": null,
   "id": "63a048da",
   "metadata": {},
   "outputs": [],
   "source": [
    "# Load and preview dataset\n",
    "df = pd.read_csv(\"customer_support_tickets.csv\", encoding='utf-8')\n",
    "print(\"Columns:\", df.columns.tolist())\n",
    "df.head()\n"
   ]
  },
  {
   "cell_type": "code",
   "execution_count": null,
   "id": "7605fe97",
   "metadata": {},
   "outputs": [],
   "source": []
  }
 ],
 "metadata": {
  "language_info": {
   "name": "python"
  }
 },
 "nbformat": 4,
 "nbformat_minor": 5
}
