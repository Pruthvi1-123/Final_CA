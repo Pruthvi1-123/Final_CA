{
 "cells": [
  {
   "cell_type": "code",
   "execution_count": null,
   "id": "8425fcc4",
   "metadata": {},
   "outputs": [],
   "source": [
    "# Import libraries\n",
    "import pandas as pd\n"
   ]
  },
  {
   "cell_type": "code",
   "execution_count": null,
   "id": "63a048da",
   "metadata": {},
   "outputs": [],
   "source": [
    "# Load and preview dataset\n",
    "df = pd.read_csv(\"customer_support_tickets.csv\", encoding='utf-8')\n",
    "print(\"Columns:\", df.columns.tolist())\n",
    "df.head()\n"
   ]
  },
  {
   "cell_type": "code",
   "execution_count": null,
   "id": "0539106f",
   "metadata": {},
   "outputs": [],
   "source": [
    "# Rename and validate columns\n",
    "required_cols_mapping = {\n",
    "    \"Ticket Description\": \"Ticket Description\",\n",
    "    \"Ticket Type\": \"Ticket Type\",\n",
    "    \"Ticket Priority\": \"Ticket Priority\",\n",
    "    \"gender\": \"Customer Gender\"\n",
    "}\n",
    "\n",
    "# Check if required columns exist\n",
    "missing = [v for v in required_cols_mapping.values() if v not in df.columns]\n",
    "if missing:\n",
    "    raise ValueError(f\"Missing columns: {missing}\")\n",
    "\n",
    "# Standardize column names\n",
    "df = df.rename(columns={v: k for k, v in required_cols_mapping.items()})\n",
    "print(\"✅ Renamed columns:\", df.columns.tolist())\n"
   ]
  },
  {
   "cell_type": "code",
   "execution_count": null,
   "id": "7605fe97",
   "metadata": {},
   "outputs": [],
   "source": [
    "import re\n",
    "import string\n",
    "\n",
    "# Custom text cleaning function\n",
    "def clean_text(text):\n",
    "    if pd.isna(text):\n",
    "        return \"\"\n",
    "    text = text.lower()\n",
    "    text = re.sub(r\"http\\S+|www\\S+|https\\S+\", '', text, flags=re.MULTILINE)  # remove URLs\n",
    "    text = re.sub(r\"\\s+\", ' ', text)  # remove extra spaces\n",
    "    text = text.translate(str.maketrans('', '', string.punctuation))  # remove punctuation\n",
    "    return text.strip()\n",
    "\n",
    "# Apply cleaning to ticket descriptions\n",
    "df[\"Ticket Description\"] = df[\"Ticket Description\"].apply(clean_text)\n",
    "\n",
    "# Drop rows with empty values in key columns\n",
    "df = df.dropna(subset=[\"Ticket Description\", \"Ticket Type\", \"Ticket Priority\"])\n",
    "print(\"✅ Cleaned ticket descriptions and dropped missing rows\")\n"
   ]
  },
  {
   "cell_type": "code",
   "execution_count": null,
   "id": "fa8179d2",
   "metadata": {
    "vscode": {
     "languageId": "r"
    }
   },
   "outputs": [],
   "source": [
    "import matplotlib.pyplot as plt\n",
    "import seaborn as sns\n",
    "\n",
    "# Display structure\n",
    "print(\"\\n📊 Dataset Info:\")\n",
    "print(df.info())\n",
    "\n",
    "print(\"\\n📈 Statistical Summary:\")\n",
    "print(df.describe(include='all'))\n",
    "\n",
    "# Check missing values\n",
    "print(\"\\n🧼 Missing Values:\")\n",
    "print(df.isnull().sum())\n",
    "\n",
    "# Value counts for categorical features\n",
    "print(\"\\n📌 Ticket Type Distribution:\")\n",
    "print(df[\"Ticket Type\"].value_counts())\n",
    "\n",
    "print(\"\\n📌 Ticket Priority Distribution:\")\n",
    "print(df[\"Ticket Priority\"].value_counts())\n",
    "\n",
    "# Plot ticket type distribution\n",
    "plt.figure(figsize=(8, 4))\n",
    "sns.countplot(data=df, x=\"Ticket Type\", palette=\"viridis\")\n",
    "plt.title(\"Distribution of Ticket Types\")\n",
    "plt.xticks(rotation=45)\n",
    "plt.tight_layout()\n",
    "plt.show()\n",
    "\n",
    "# Plot ticket priority distribution\n",
    "plt.figure(figsize=(6, 4))\n",
    "sns.countplot(data=df, x=\"Ticket Priority\", palette=\"plasma\")\n",
    "plt.title(\"Distribution of Ticket Priorities\")\n",
    "plt.tight_layout()\n",
    "plt.show()\n",
    "\n",
    "# Ticket length analysis\n",
    "df[\"Text Length\"] = df[\"Ticket Description\"].apply(lambda x: len(str(x).split()))\n",
    "\n",
    "plt.figure(figsize=(8, 4))\n",
    "sns.histplot(df[\"Text Length\"], bins=20, kde=True, color=\"teal\")\n",
    "plt.title(\"Distribution of Ticket Description Length\")\n",
    "plt.xlabel(\"Number of Words\")\n",
    "plt.ylabel(\"Count\")\n",
    "plt.tight_layout()\n",
    "plt.show()"
   ]
  },
  {
   "cell_type": "code",
   "execution_count": null,
   "id": "59f91ecd",
   "metadata": {
    "vscode": {
     "languageId": "r"
    }
   },
   "outputs": [],
   "source": [
    "# BERT embeddings\n",
    "tokenizer = BertTokenizer.from_pretrained('bert-base-uncased')\n",
    "bert_model = TFBertModel.from_pretrained('bert-base-uncased')\n",
    "\n",
    "def bert_embed(texts):\n",
    "    inputs = tokenizer(texts.tolist(), return_tensors=\"tf\", padding=True, truncation=True)\n",
    "    outputs = bert_model(**inputs)\n",
    "    return outputs.last_hidden_state[:, 0, :].numpy()\n",
    "\n",
    "X = bert_embed(df[\"cleaned_text\"])\n",
    "\n",
    "# Label encoding\n",
    "from sklearn.preprocessing import LabelEncoder\n",
    "le_type = LabelEncoder()\n",
    "le_priority = LabelEncoder()\n",
    "\n",
    "y_type = le_type.fit_transform(df[\"Ticket Type\"])\n",
    "y_priority = le_priority.fit_transform(df[\"Ticket Priority\"])\n",
    "y = np.vstack((y_type, y_priority)).T"
   ]
  }
 ],
 "metadata": {
  "language_info": {
   "name": "python"
  }
 },
 "nbformat": 4,
 "nbformat_minor": 5
}
