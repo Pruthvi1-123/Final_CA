{
 "cells": [
  {
   "cell_type": "code",
   "execution_count": null,
   "id": "8425fcc4",
   "metadata": {},
   "outputs": [],
   "source": [
    "# Import libraries\n",
    "import pandas as pd\n"
   ]
  },
  {
   "cell_type": "code",
   "execution_count": null,
   "id": "63a048da",
   "metadata": {},
   "outputs": [],
   "source": [
    "# Load and preview dataset\n",
    "df = pd.read_csv(\"customer_support_tickets.csv\", encoding='utf-8')\n",
    "print(\"Columns:\", df.columns.tolist())\n",
    "df.head()\n"
   ]
  },
  {
   "cell_type": "code",
   "execution_count": null,
   "id": "0539106f",
   "metadata": {},
   "outputs": [],
   "source": [
    "# Rename and validate columns\n",
    "required_cols_mapping = {\n",
    "    \"Ticket Description\": \"Ticket Description\",\n",
    "    \"Ticket Type\": \"Ticket Type\",\n",
    "    \"Ticket Priority\": \"Ticket Priority\",\n",
    "    \"gender\": \"Customer Gender\"\n",
    "}\n",
    "\n",
    "# Check if required columns exist\n",
    "missing = [v for v in required_cols_mapping.values() if v not in df.columns]\n",
    "if missing:\n",
    "    raise ValueError(f\"Missing columns: {missing}\")\n",
    "\n",
    "# Standardize column names\n",
    "df = df.rename(columns={v: k for k, v in required_cols_mapping.items()})\n",
    "print(\"✅ Renamed columns:\", df.columns.tolist())\n"
   ]
  },
  {
   "cell_type": "code",
   "execution_count": null,
   "id": "7605fe97",
   "metadata": {},
   "outputs": [],
   "source": [
    "import re\n",
    "import string\n",
    "\n",
    "# Custom text cleaning function\n",
    "def clean_text(text):\n",
    "    if pd.isna(text):\n",
    "        return \"\"\n",
    "    text = text.lower()\n",
    "    text = re.sub(r\"http\\S+|www\\S+|https\\S+\", '', text, flags=re.MULTILINE)  # remove URLs\n",
    "    text = re.sub(r\"\\s+\", ' ', text)  # remove extra spaces\n",
    "    text = text.translate(str.maketrans('', '', string.punctuation))  # remove punctuation\n",
    "    return text.strip()\n",
    "\n",
    "# Apply cleaning to ticket descriptions\n",
    "df[\"Ticket Description\"] = df[\"Ticket Description\"].apply(clean_text)\n",
    "\n",
    "# Drop rows with empty values in key columns\n",
    "df = df.dropna(subset=[\"Ticket Description\", \"Ticket Type\", \"Ticket Priority\"])\n",
    "print(\"✅ Cleaned ticket descriptions and dropped missing rows\")\n"
   ]
  },
  {
   "cell_type": "code",
   "execution_count": null,
   "id": "fa8179d2",
   "metadata": {},
   "outputs": [],
   "source": []
  }
 ],
 "metadata": {
  "language_info": {
   "name": "python"
  }
 },
 "nbformat": 4,
 "nbformat_minor": 5
}
