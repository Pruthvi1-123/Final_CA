{
 "cells": [
  {
   "cell_type": "code",
   "execution_count": null,
   "id": "8425fcc4",
   "metadata": {},
   "outputs": [],
   "source": [
    "# Import libraries\n",
    "import pandas as pd\n"
   ]
  },
  {
   "cell_type": "code",
   "execution_count": null,
   "id": "63a048da",
   "metadata": {},
   "outputs": [],
   "source": [
    "# Load and preview dataset\n",
    "df = pd.read_csv(\"customer_support_tickets.csv\", encoding='utf-8')\n",
    "print(\"Columns:\", df.columns.tolist())\n",
    "df.head()\n"
   ]
  },
  {
   "cell_type": "code",
   "execution_count": null,
   "id": "0539106f",
   "metadata": {},
   "outputs": [],
   "source": [
    "# Rename and validate columns\n",
    "required_cols_mapping = {\n",
    "    \"Ticket Description\": \"Ticket Description\",\n",
    "    \"Ticket Type\": \"Ticket Type\",\n",
    "    \"Ticket Priority\": \"Ticket Priority\",\n",
    "    \"gender\": \"Customer Gender\"\n",
    "}\n",
    "\n",
    "# Check if required columns exist\n",
    "missing = [v for v in required_cols_mapping.values() if v not in df.columns]\n",
    "if missing:\n",
    "    raise ValueError(f\"Missing columns: {missing}\")\n",
    "\n",
    "# Standardize column names\n",
    "df = df.rename(columns={v: k for k, v in required_cols_mapping.items()})\n",
    "print(\"✅ Renamed columns:\", df.columns.tolist())\n"
   ]
  },
  {
   "cell_type": "code",
   "execution_count": null,
   "id": "7605fe97",
   "metadata": {},
   "outputs": [],
   "source": []
  },
  {
   "cell_type": "code",
   "execution_count": null,
   "id": "fa8179d2",
   "metadata": {},
   "outputs": [],
   "source": []
  }
 ],
 "metadata": {
  "language_info": {
   "name": "python"
  }
 },
 "nbformat": 4,
 "nbformat_minor": 5
}
